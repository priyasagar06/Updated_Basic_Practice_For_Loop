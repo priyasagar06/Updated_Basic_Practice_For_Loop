{
 "cells": [
  {
   "cell_type": "markdown",
   "id": "166d7726",
   "metadata": {},
   "source": [
    "### String\n"
   ]
  },
  {
   "cell_type": "code",
   "execution_count": 1,
   "id": "566c4fed",
   "metadata": {},
   "outputs": [
    {
     "name": "stdout",
     "output_type": "stream",
     "text": [
      " Priya\n",
      "Hello Priya !\n"
     ]
    }
   ],
   "source": [
    "#1. take name as input and say hello\n",
    "\n",
    "\n",
    "name = input(\" \")\n",
    "print(\"Hello {} !\".format(name))"
   ]
  },
  {
   "cell_type": "code",
   "execution_count": 2,
   "id": "b41ab6e3",
   "metadata": {},
   "outputs": [
    {
     "name": "stdout",
     "output_type": "stream",
     "text": [
      "2\n"
     ]
    }
   ],
   "source": [
    "# 2. from below string print count of \"Is\".\n",
    "string = \"he is Amol and she is Chaitali\"\n",
    "x =  string.count(\"is\")\n",
    "print(x)"
   ]
  },
  {
   "cell_type": "code",
   "execution_count": 3,
   "id": "c14a3fdf",
   "metadata": {},
   "outputs": [
    {
     "name": "stdout",
     "output_type": "stream",
     "text": [
      "['Data', 'is', 'new', 'oil']\n"
     ]
    }
   ],
   "source": [
    "# 3. from below string split the words by space\n",
    "string = \"Data is new oil\"\n",
    "split_string = string.split(\" \")\n",
    "print(split_string)"
   ]
  },
  {
   "cell_type": "code",
   "execution_count": 4,
   "id": "a1034f30",
   "metadata": {},
   "outputs": [
    {
     "name": "stdout",
     "output_type": "stream",
     "text": [
      "Data=is=new=oil\n"
     ]
    }
   ],
   "source": [
    "# 4.now from below list, join all words by \"=\" and create a sentence\n",
    "list = [\"Data\", \"is\", \"new\", \"oil\"]\n",
    "my_string = \"=\".join(list)\n",
    "print(my_string)"
   ]
  },
  {
   "cell_type": "code",
   "execution_count": 5,
   "id": "855b56a0",
   "metadata": {},
   "outputs": [
    {
     "name": "stdout",
     "output_type": "stream",
     "text": [
      "I love programming in Python.\n"
     ]
    }
   ],
   "source": [
    "# 5. from below string replace \"Java\" with \"Python\"\n",
    "sentence = \"I love programming in Java.\"\n",
    "new_sentence = sentence.replace(\"Java\",\"Python\")\n",
    "print(new_sentence)"
   ]
  },
  {
   "cell_type": "code",
   "execution_count": 6,
   "id": "e1d38681",
   "metadata": {},
   "outputs": [
    {
     "name": "stdout",
     "output_type": "stream",
     "text": [
      "This is a message with spaces.\n"
     ]
    }
   ],
   "source": [
    "# 6.from below string remove(strip) additional spaces and print it\n",
    "message = \"  This is a message with spaces.  \"\n",
    "strip_message= message.strip()\n",
    "print(strip_message)"
   ]
  },
  {
   "cell_type": "code",
   "execution_count": 7,
   "id": "a47ca76a",
   "metadata": {},
   "outputs": [
    {
     "name": "stdout",
     "output_type": "stream",
     "text": [
      "10\n"
     ]
    }
   ],
   "source": [
    "#7. From below string find postion(start index) of \"sample\"\n",
    "sentence = \"This is a sample sentence.\"\n",
    "position = sentence.index(\"sample\")\n",
    "print(position)"
   ]
  },
  {
   "cell_type": "code",
   "execution_count": 8,
   "id": "080f17d4",
   "metadata": {},
   "outputs": [
    {
     "name": "stdout",
     "output_type": "stream",
     "text": [
      "14\n"
     ]
    }
   ],
   "source": [
    "#8. Given the string \"Python is fun!\", how can you calculate and print its length?\n",
    "text = \"Python is fun!\"\n",
    "my_text = len(text)\n",
    "print(my_text)"
   ]
  },
  {
   "cell_type": "code",
   "execution_count": 9,
   "id": "cc1b0007",
   "metadata": {},
   "outputs": [
    {
     "name": "stdout",
     "output_type": "stream",
     "text": [
      "elppaeniP\n"
     ]
    }
   ],
   "source": [
    "#9. Print below string in reverse order\n",
    "string = \"Pineapple\"\n",
    "reverse_string = string[::-1]\n",
    "print(reverse_string)"
   ]
  },
  {
   "cell_type": "code",
   "execution_count": 10,
   "id": "17d2fe35",
   "metadata": {},
   "outputs": [
    {
     "name": "stdout",
     "output_type": "stream",
     "text": [
      "Welcome To Python Programming.\n"
     ]
    }
   ],
   "source": [
    "#10.Given the string \"Welcome to Python Programming.\",how can you capitalize the first letter of each word and print the modified string?\n",
    "text = \"Welcome to Python Programming.\"\n",
    "my_text = text.title()\n",
    "print(my_text)"
   ]
  },
  {
   "cell_type": "code",
   "execution_count": 11,
   "id": "54826e57",
   "metadata": {},
   "outputs": [
    {
     "name": "stdout",
     "output_type": "stream",
     "text": [
      "DATA IS NEW OIL\n"
     ]
    }
   ],
   "source": [
    "#11. Convert all letter of string to Upper Case\n",
    "text = \"Data is new oil\"\n",
    "print(text.upper())"
   ]
  },
  {
   "cell_type": "code",
   "execution_count": 12,
   "id": "aebcc9f5",
   "metadata": {},
   "outputs": [
    {
     "name": "stdout",
     "output_type": "stream",
     "text": [
      "I Am Learning Python\n"
     ]
    }
   ],
   "source": [
    "#12. From below string just convert first lettter of string to upper case\n",
    "text = \"i am learning python\"\n",
    "my_text = text.title()\n",
    "print(my_text)"
   ]
  },
  {
   "cell_type": "code",
   "execution_count": 13,
   "id": "a3713785",
   "metadata": {},
   "outputs": [
    {
     "name": "stdout",
     "output_type": "stream",
     "text": [
      "dAta IS nEw Oil\n"
     ]
    }
   ],
   "source": [
    "#13. Convert all uppper case to lower and lower case to upper\n",
    "text = \"DaTA is NeW oIL\"\n",
    "print(text.swapcase())"
   ]
  },
  {
   "cell_type": "code",
   "execution_count": 14,
   "id": "2bc1b0b4",
   "metadata": {},
   "outputs": [
    {
     "name": "stdout",
     "output_type": "stream",
     "text": [
      "50\n"
     ]
    }
   ],
   "source": [
    "#14. print the addition of below 2 strings\n",
    "a = 20\n",
    "b = 30\n",
    "c= a+b\n",
    "print(c)"
   ]
  },
  {
   "cell_type": "code",
   "execution_count": 15,
   "id": "0d84234c",
   "metadata": {},
   "outputs": [
    {
     "name": "stdout",
     "output_type": "stream",
     "text": [
      "2030\n"
     ]
    }
   ],
   "source": [
    "#15. print the additiono of below 2 strings\n",
    "a = \"20\"\n",
    "b = \"30\"\n",
    "c = a+b\n",
    "print(c)"
   ]
  },
  {
   "cell_type": "markdown",
   "id": "5a4d8f5f",
   "metadata": {},
   "source": [
    "## List"
   ]
  },
  {
   "cell_type": "code",
   "execution_count": 16,
   "id": "963c6315",
   "metadata": {},
   "outputs": [
    {
     "name": "stdout",
     "output_type": "stream",
     "text": [
      "[1, 2, 3, 44, 5]\n"
     ]
    }
   ],
   "source": [
    "# 16. From below list replace 4 with 44\n",
    "my_list = [1,2,3,4,5]\n",
    "my_list[3]=44\n",
    "print(my_list)"
   ]
  },
  {
   "cell_type": "code",
   "execution_count": 17,
   "id": "b480e8bd",
   "metadata": {},
   "outputs": [
    {
     "name": "stdout",
     "output_type": "stream",
     "text": [
      "[1, 2, 3, 200, 4, 5]\n"
     ]
    }
   ],
   "source": [
    "# 17. In below list add(insert) 200 at index 3\n",
    "my_list = [1, 2, 3, 4, 5]\n",
    "my_list.insert(3,200)\n",
    "print(my_list)"
   ]
  },
  {
   "cell_type": "code",
   "execution_count": 18,
   "id": "4bd4f216",
   "metadata": {},
   "outputs": [
    {
     "name": "stdout",
     "output_type": "stream",
     "text": [
      "[1, 2, 3, 4, 5, 66]\n"
     ]
    }
   ],
   "source": [
    "# 18. In below list add new number 66\n",
    "my_list = [1, 2, 3, 4, 5]\n",
    "my_list.append(66)\n",
    "print(my_list)"
   ]
  },
  {
   "cell_type": "code",
   "execution_count": 19,
   "id": "261cda24",
   "metadata": {},
   "outputs": [
    {
     "name": "stdout",
     "output_type": "stream",
     "text": [
      "[1, 2, 3, 4, 5, 66, 87, 99]\n"
     ]
    }
   ],
   "source": [
    "## 19 In below list insert new numbers 66,87,99\n",
    "my_list = [1, 2, 3, 4, 5]\n",
    "my_list.extend([66,87,99])\n",
    "print(my_list)"
   ]
  },
  {
   "cell_type": "code",
   "execution_count": 20,
   "id": "7c93abf3",
   "metadata": {},
   "outputs": [
    {
     "name": "stdout",
     "output_type": "stream",
     "text": [
      "[1, 2, 4, 5]\n"
     ]
    }
   ],
   "source": [
    "# 20. from below list remove number 3\n",
    "my_list =[1,2,3,4,5]\n",
    "my_list.pop(2)\n",
    "print(my_list)"
   ]
  },
  {
   "cell_type": "code",
   "execution_count": 21,
   "id": "13bfbfab",
   "metadata": {},
   "outputs": [
    {
     "name": "stdout",
     "output_type": "stream",
     "text": [
      "2\n"
     ]
    }
   ],
   "source": [
    "# 21. From below list print count of \"cherry\"\n",
    "my_list = [1, 2.5, \"cherry\", 3, \"banana\", 4.0, \"cherry\"]\n",
    "my_list1=my_list.count(\"cherry\")\n",
    "print(my_list1)"
   ]
  },
  {
   "cell_type": "code",
   "execution_count": 22,
   "id": "3cf5a513",
   "metadata": {},
   "outputs": [
    {
     "name": "stdout",
     "output_type": "stream",
     "text": [
      "4\n"
     ]
    }
   ],
   "source": [
    "# 22. From below list print index of \"banana\"\n",
    "my_list = [1, 2.5, \"apple\", 3, \"banana\", 4.0, \"cherry\"]\n",
    "my_list1 = my_list.index(\"banana\")\n",
    "print(my_list1)"
   ]
  },
  {
   "cell_type": "code",
   "execution_count": 23,
   "id": "721c2835",
   "metadata": {},
   "outputs": [
    {
     "name": "stdout",
     "output_type": "stream",
     "text": [
      "['Pune', 'Delhi', 'Mumbai', 'Indore', 'Jaipur']\n"
     ]
    }
   ],
   "source": [
    "#23. From below list remove last item\n",
    "my_list = [\"Pune\",\"Delhi\",\"Mumbai\",\"Indore\",\"Jaipur\",\"Dehradun\"]\n",
    "my_list.pop()\n",
    "print(my_list)"
   ]
  },
  {
   "cell_type": "code",
   "execution_count": 24,
   "id": "a2f02571",
   "metadata": {},
   "outputs": [
    {
     "name": "stdout",
     "output_type": "stream",
     "text": [
      "['Apple', 'Banana', 'Cherry', 'Grapes', 'Mango']\n"
     ]
    }
   ],
   "source": [
    "# 24. Sort the below list in Alphabetical order\n",
    "my_list = [\"Grapes\",\"Apple\",\"Cherry\",\"Mango\",\"Banana\"]\n",
    "my_list.sort()\n",
    "print(my_list)"
   ]
  },
  {
   "cell_type": "code",
   "execution_count": 25,
   "id": "3ff125fd",
   "metadata": {},
   "outputs": [
    {
     "name": "stdout",
     "output_type": "stream",
     "text": [
      "['Mango', 'Grapes', 'Cherry', 'Banana', 'Apple']\n"
     ]
    }
   ],
   "source": [
    "# 25. Sort below list in reverse Alphabetical order\n",
    "my_list = [\"Grapes\",\"Apple\",\"Cherry\",\"Mango\",\"Banana\"]\n",
    "my_list.sort(reverse=True)\n",
    "print(my_list)"
   ]
  },
  {
   "cell_type": "markdown",
   "id": "d62298d3",
   "metadata": {},
   "source": [
    "### Assignment on List"
   ]
  },
  {
   "cell_type": "code",
   "execution_count": 26,
   "id": "1614c634",
   "metadata": {},
   "outputs": [],
   "source": [
    "# 26.Create a list named myList that has three elements:\n",
    "# - The integer 3\n",
    "# - The string 'element number two'\n",
    "# - Another list ['last','element']\n",
    "#in that order.\n",
    "\n",
    "myList = [3, 'element number two', ['last', 'element']]"
   ]
  },
  {
   "cell_type": "code",
   "execution_count": 27,
   "id": "1f0d5033",
   "metadata": {},
   "outputs": [
    {
     "data": {
      "text/plain": [
       "3"
      ]
     },
     "execution_count": 27,
     "metadata": {},
     "output_type": "execute_result"
    }
   ],
   "source": [
    "# 27.Print the third element of the following list.\n",
    "l = [1, 2, 3, 4, 5, 6, 7, 8, 9]\n",
    "l[2]"
   ]
  },
  {
   "cell_type": "code",
   "execution_count": 28,
   "id": "45a2f785",
   "metadata": {},
   "outputs": [
    {
     "name": "stdout",
     "output_type": "stream",
     "text": [
      "['a', 'b', 16]\n"
     ]
    }
   ],
   "source": [
    "# 28. modify the last elemnt of this list so that its value is 16. Print the modified list so you know the operation was performed successfully\n",
    "listToModify = ['a', 'b', 'sixteen']\n",
    "listToModify[-1] = 16\n",
    "print(listToModify)"
   ]
  },
  {
   "cell_type": "code",
   "execution_count": 29,
   "id": "fe21e073",
   "metadata": {},
   "outputs": [
    {
     "data": {
      "text/plain": [
       "8"
      ]
     },
     "execution_count": 29,
     "metadata": {},
     "output_type": "execute_result"
    }
   ],
   "source": [
    "# 29.Calculate the length of the following list.\n",
    "listToFindLength = ['this', 'is','the', 'list', 'whose', 'length', 'I', 'want']\n",
    "len(listToFindLength)"
   ]
  },
  {
   "cell_type": "code",
   "execution_count": 30,
   "id": "4ca96d91",
   "metadata": {},
   "outputs": [
    {
     "data": {
      "text/plain": [
       "3622"
      ]
     },
     "execution_count": 30,
     "metadata": {},
     "output_type": "execute_result"
    }
   ],
   "source": [
    "# 30.Calculate the sum of the following list.\n",
    "intList = [54, 678, 2890]\n",
    "sum(intList)"
   ]
  },
  {
   "cell_type": "code",
   "execution_count": 31,
   "id": "3ab8f933",
   "metadata": {},
   "outputs": [
    {
     "data": {
      "text/plain": [
       "53245"
      ]
     },
     "execution_count": 31,
     "metadata": {},
     "output_type": "execute_result"
    }
   ],
   "source": [
    "# 31.Find the maximum value of the following list\n",
    "maxList = [677, 53245, 234, 236, 23456, 345, 23526, 3454]\n",
    "max(maxList)"
   ]
  },
  {
   "cell_type": "code",
   "execution_count": 32,
   "id": "f039cf99",
   "metadata": {},
   "outputs": [
    {
     "data": {
      "text/plain": [
       "134"
      ]
     },
     "execution_count": 32,
     "metadata": {},
     "output_type": "execute_result"
    }
   ],
   "source": [
    "# 32.Find the minimum value of the following list.\n",
    "minList = [351, 984, 1697, 284, 134, 467, 164]\n",
    "min(minList)"
   ]
  },
  {
   "cell_type": "code",
   "execution_count": 33,
   "id": "f9f71b5d",
   "metadata": {},
   "outputs": [
    {
     "name": "stdout",
     "output_type": "stream",
     "text": [
      "[1, 2, 3, 'append me!']\n"
     ]
    }
   ],
   "source": [
    "# 33.Append the string 'append me!' to the end of the following list. Print the list to ensure the operation has been completed successfully\n",
    "listToAppend = [1, 2, 3]\n",
    "listToAppend.append('append me!')\n",
    "print(listToAppend)"
   ]
  },
  {
   "cell_type": "markdown",
   "id": "bebe6dbf",
   "metadata": {},
   "source": [
    "## For Loop"
   ]
  },
  {
   "cell_type": "code",
   "execution_count": 34,
   "id": "66551035",
   "metadata": {},
   "outputs": [
    {
     "name": "stdout",
     "output_type": "stream",
     "text": [
      "1\n",
      "2\n",
      "3\n",
      "4\n",
      "5\n",
      "6\n",
      "7\n",
      "8\n",
      "9\n",
      "10\n"
     ]
    }
   ],
   "source": [
    "#34. Print the first 10 natural numbers using for loop.\n",
    "# between 0 to 10\n",
    "# there are 11 numbers\n",
    "# therefore, we set the value\n",
    "# of n to 11\n",
    "\n",
    "numbers = 11\n",
    "for i in range(1,numbers):\n",
    "        print(i)"
   ]
  },
  {
   "cell_type": "code",
   "execution_count": 35,
   "id": "600ff166",
   "metadata": {},
   "outputs": [
    {
     "name": "stdout",
     "output_type": "stream",
     "text": [
      "0\n",
      "2\n",
      "4\n",
      "6\n",
      "8\n"
     ]
    }
   ],
   "source": [
    "# 35.Python program to print all the even numbers within the given range.\n",
    "\n",
    "given_range = 10\n",
    "for i in range(given_range):\n",
    "    if i%2==0:\n",
    "# if above condition is true\n",
    "                print(i)"
   ]
  },
  {
   "cell_type": "code",
   "execution_count": 36,
   "id": "28e63f79",
   "metadata": {},
   "outputs": [
    {
     "name": "stdout",
     "output_type": "stream",
     "text": [
      "55\n"
     ]
    }
   ],
   "source": [
    "# 36.Python program to calculate the sum of all numbers from 1 to a given number.\n",
    "\n",
    "given_number = 10\n",
    "sum = 0\n",
    "for i in range(1,given_number+1):\n",
    "        sum=sum+i\n",
    "#print the total sum at the end\n",
    "print(sum)"
   ]
  },
  {
   "cell_type": "code",
   "execution_count": 37,
   "id": "09ea0ee7",
   "metadata": {},
   "outputs": [
    {
     "name": "stdout",
     "output_type": "stream",
     "text": [
      "Enter a number: 10\n",
      "The sum of all numbers from 1 to 10 is: 55\n"
     ]
    }
   ],
   "source": [
    "# another method to understand\n",
    "def sum_of_numbers(n):\n",
    "    total = 0\n",
    "    for i in range(1, n + 1):\n",
    "        total += i\n",
    "    return total\n",
    "\n",
    "# Input a number from the user\n",
    "n = int(input(\"Enter a number: \"))\n",
    "\n",
    "result = sum_of_numbers(n)\n",
    "\n",
    "print(f\"The sum of all numbers from 1 to {n} is: {result}\")"
   ]
  },
  {
   "cell_type": "code",
   "execution_count": 38,
   "id": "aa2fa839",
   "metadata": {},
   "outputs": [
    {
     "name": "stdout",
     "output_type": "stream",
     "text": [
      "25\n"
     ]
    }
   ],
   "source": [
    "#37. Python program to calculate the sum of all the odd numbers within the given range.\n",
    "\n",
    "given_range = 10\n",
    " \n",
    "# set up a variable to store the sum\n",
    "# with initial value of 0\n",
    "sum = 0\n",
    " \n",
    "for i in range(given_range):\n",
    "        # if i is odd, add it\n",
    "        # to the sum variable\n",
    "        if i%2!=0:\n",
    "                sum+=i\n",
    "print(sum)"
   ]
  },
  {
   "cell_type": "code",
   "execution_count": 39,
   "id": "5e937a4a",
   "metadata": {},
   "outputs": [
    {
     "name": "stdout",
     "output_type": "stream",
     "text": [
      "5  x 0  = 0\n",
      "5  x 1  = 5\n",
      "5  x 2  = 10\n",
      "5  x 3  = 15\n",
      "5  x 4  = 20\n",
      "5  x 5  = 25\n",
      "5  x 6  = 30\n",
      "5  x 7  = 35\n",
      "5  x 8  = 40\n",
      "5  x 9  = 45\n",
      "5  x 10  = 50\n"
     ]
    }
   ],
   "source": [
    "#38.Python program to print a multiplication table of a given number\n",
    "# if the given range is 10\n",
    "given_number = 5\n",
    " \n",
    "for i in range(11):\n",
    "        print (given_number,\" x\",i,\" =\",5*i)"
   ]
  },
  {
   "cell_type": "code",
   "execution_count": 40,
   "id": "aac33d38",
   "metadata": {},
   "outputs": [
    {
     "name": "stdout",
     "output_type": "stream",
     "text": [
      "1\n",
      "2\n",
      "4\n",
      "6\n",
      "88\n",
      "125\n"
     ]
    }
   ],
   "source": [
    "# 39.Python program to display numbers from a list using a for loop.\n",
    "\n",
    "list = [1,2,4,6,88,125]\n",
    "for i in list:\n",
    "    print(i)"
   ]
  },
  {
   "cell_type": "code",
   "execution_count": 41,
   "id": "616b80ed",
   "metadata": {},
   "outputs": [
    {
     "name": "stdout",
     "output_type": "stream",
     "text": [
      "6\n"
     ]
    }
   ],
   "source": [
    "#40. Python program to count the total number of digits in a number.\n",
    "\n",
    "given_number = 129475\n",
    "# since we cannot iterate over an integer\n",
    "# in python, we need to convert the\n",
    "# integer into string first using the\n",
    "# str() function\n",
    "given_number = str(given_number)\n",
    " \n",
    "# declare a variable to store\n",
    "# the count of digits in the\n",
    "# given number with value 0\n",
    "count=0\n",
    " \n",
    "for i in given_number:\n",
    "        count += 1\n",
    "print(count)"
   ]
  },
  {
   "cell_type": "code",
   "execution_count": 42,
   "id": "eef63ce4",
   "metadata": {},
   "outputs": [
    {
     "name": "stdout",
     "output_type": "stream",
     "text": [
      "The string madam is a Palindrome.\n"
     ]
    }
   ],
   "source": [
    "#41. Python program to check if the given string is a palindrome.\n",
    "\n",
    "given_string = \"madam\"\n",
    " \n",
    "# an empty string variable to store\n",
    "# the given string in reverse\n",
    "reverse_string = \"\"\n",
    " \n",
    "# iterate through the given string\n",
    "# and append each element of the given string\n",
    "# to the reverse_string variable\n",
    "for i in given_string:\n",
    "    reverse_string = i + reverse_string  \n",
    " \n",
    "# if given_string matches the reverse_srting exactly\n",
    "# the given string is a palindrome\n",
    "if(given_string == reverse_string):\n",
    "   print(\"The string\", given_string,\"is a Palindrome.\")\n",
    " \n",
    "# else the given string is not a palindrome   \n",
    "else:\n",
    "   print(\"The string\",given_string,\"is NOT a Palindrome.\")"
   ]
  },
  {
   "cell_type": "code",
   "execution_count": 43,
   "id": "6fcba779",
   "metadata": {},
   "outputs": [
    {
     "name": "stdout",
     "output_type": "stream",
     "text": [
      "Enter the string: Priya\n",
      "ayirP\n"
     ]
    }
   ],
   "source": [
    "#42.Python program that accepts a word from the user and reverses it.\n",
    "\n",
    "\n",
    "string = str(input(\"Enter the string: \"))\n",
    "reverse_string = \"\"\n",
    "for i in string:\n",
    "    reverse_string =i+reverse_string\n",
    "print(reverse_string)"
   ]
  },
  {
   "cell_type": "code",
   "execution_count": 44,
   "id": "49a2c707",
   "metadata": {},
   "outputs": [
    {
     "name": "stdout",
     "output_type": "stream",
     "text": [
      "The given number 153 is an Amstrong number.\n"
     ]
    }
   ],
   "source": [
    "#43.Python program to check if a given number is an Armstrong number\n",
    "\n",
    "\n",
    "given_number = 153\n",
    "given_number = str(given_number)\n",
    " \n",
    "string_length = len(given_number)\n",
    "sum = 0\n",
    " \n",
    "for i in given_number:\n",
    "    sum += int(i)**string_length\n",
    "if sum == int(given_number):\n",
    "    print(\"The given number\",given_number,\"is an Amstrong number.\")\n",
    "else:\n",
    "    print(\"The given number\",given_number,\"is Not an Amstrong number.\")"
   ]
  },
  {
   "cell_type": "code",
   "execution_count": 45,
   "id": "6d258dae",
   "metadata": {},
   "outputs": [
    {
     "name": "stdout",
     "output_type": "stream",
     "text": [
      "Enter the number: 153\n",
      "The given number 153 is an Amstrong number\n"
     ]
    }
   ],
   "source": [
    "#another method :\n",
    "\n",
    "number = int(input(\"Enter the number: \"))\n",
    "number = str(number)\n",
    "sum =0\n",
    "for i in number:\n",
    "    sum += int(i)**len(number)\n",
    "if sum==int(number):\n",
    "\n",
    "    print(\"The given number {} is an Amstrong number\".format(number))\n",
    "else:\n",
    "    print(\"The given number {} is not an Amstrong number\".format(number))\n"
   ]
  },
  {
   "cell_type": "code",
   "execution_count": 46,
   "id": "f439ba6a",
   "metadata": {},
   "outputs": [
    {
     "name": "stdout",
     "output_type": "stream",
     "text": [
      "1 is an odd number.\n",
      "3 is an odd number.\n",
      "5 is an odd number.\n",
      "6 is an even number.\n",
      "99 is an odd number.\n",
      "134 is an even number.\n",
      "55 is an odd number.\n"
     ]
    }
   ],
   "source": [
    "#44.Python program to count the number of even and odd numbers from a series of numbers.\n",
    "\n",
    "num_list = [1,3,5,6,99,134,55]\n",
    "for i in num_list:\n",
    "    if i%2==0:\n",
    "        print(i,\"is an even number.\")\n",
    "    # if remainder is not zero\n",
    "    # then it's an odd number\n",
    "    else:\n",
    "        print(i,\"is an odd number.\")"
   ]
  },
  {
   "cell_type": "code",
   "execution_count": 47,
   "id": "751fea61",
   "metadata": {},
   "outputs": [
    {
     "name": "stdout",
     "output_type": "stream",
     "text": [
      "Non-prime numbers between 10 and 30 are:\n",
      "10\n",
      "12\n",
      "14\n",
      "15\n",
      "16\n",
      "18\n",
      "20\n",
      "21\n",
      "22\n",
      "24\n",
      "25\n",
      "26\n",
      "27\n",
      "28\n"
     ]
    }
   ],
   "source": [
    "#45.Python program to display all numbers within a range except the prime numbers.\n",
    "\n",
    "\n",
    "import math\n",
    "def is_not_prime(n):\n",
    "\n",
    "#flag to track if no. is prime or not initially assume all numbers are non prime\n",
    "    flag = False\n",
    " \n",
    "# iterate in the given range using for loop starting from 2 as 0 & 1 are neither prime nor composite\n",
    "    for i in range(2, int(math.sqrt(n)) + 1):\n",
    "        if n % i == 0:\n",
    "            flag = True\n",
    "    return flag\n",
    " \n",
    "# lower bound of the range\n",
    "range_starts = 10\n",
    " \n",
    "# upper bound of the range\n",
    "range_ends = 30\n",
    "print(\"Non-prime numbers between\",range_starts,\"and\", range_ends,\"are:\")\n",
    " \n",
    "for number in filter(is_not_prime, range(range_starts, range_ends)):\n",
    "    print(number)\n"
   ]
  },
  {
   "cell_type": "code",
   "execution_count": 48,
   "id": "9d1be53c",
   "metadata": {},
   "outputs": [
    {
     "name": "stdout",
     "output_type": "stream",
     "text": [
      "0\n",
      "1\n",
      "1\n",
      "2\n",
      "3\n",
      "5\n",
      "8\n",
      "13\n",
      "21\n",
      "34\n"
     ]
    }
   ],
   "source": [
    "#46. Python program to get the Fibonacci series between 0 to 50.\n",
    "\n",
    "# given upper bound\n",
    "num = 50\n",
    "first_value, second_value = 0, 1\n",
    "for n in range(0, num):\n",
    "    if n <= 1:\n",
    "        next_value = n\n",
    "    else:\n",
    "        next_value = first_value + second_value\n",
    "        first_value = second_value\n",
    "        second_value = next_value\n",
    "    if next_value > num:\n",
    "        break\n",
    "    print(next_value)"
   ]
  },
  {
   "cell_type": "code",
   "execution_count": 49,
   "id": "fbd6e653",
   "metadata": {},
   "outputs": [
    {
     "name": "stdout",
     "output_type": "stream",
     "text": [
      "The factorial of  5  is  120\n"
     ]
    }
   ],
   "source": [
    "#47.Python program to find the factorial of a given number.\n",
    "\n",
    "given_number= 5\n",
    " #since 1 is a factor of all number set the factorial to 1\n",
    "factorial = 1\n",
    " \n",
    "for i in range(1, given_number + 1):\n",
    "    factorial = factorial * i\n",
    "print(\"The factorial of \", given_number, \" is \", factorial)"
   ]
  },
  {
   "cell_type": "code",
   "execution_count": 50,
   "id": "839e97f4",
   "metadata": {},
   "outputs": [
    {
     "name": "stdout",
     "output_type": "stream",
     "text": [
      "Enter the string: Priya1234\n",
      "The string has 5 letters and 4 digits\n"
     ]
    }
   ],
   "source": [
    "#48.Python program that accepts a string and calculates the number of digits and letters.\n",
    "\n",
    "user_input = input(\"Enter the string: \")\n",
    "digits = 0\n",
    "letters =0\n",
    "for i in user_input:\n",
    "    if i.isdigit():\n",
    "        digits = digits+1\n",
    "    elif i.isalpha():\n",
    "        letters = letters+1\n",
    "print(\"The string has {} letters and {} digits\".format(letters,digits))\n"
   ]
  },
  {
   "cell_type": "markdown",
   "id": "e350e47d",
   "metadata": {},
   "source": [
    "## Dictionary"
   ]
  },
  {
   "cell_type": "code",
   "execution_count": 2,
   "id": "a98d9fde",
   "metadata": {},
   "outputs": [
    {
     "name": "stdout",
     "output_type": "stream",
     "text": [
      "name\n",
      "age\n",
      "city\n",
      "occupation\n"
     ]
    }
   ],
   "source": [
    "#49. 1. Given the following dictionary, print all the keys.\n",
    "\n",
    "my_dict = {\"name\": \"Alice\", \"age\": 25, \"city\": \"New York\", \"occupation\": \"Engineer\"}\n",
    "#Print all the keys\n",
    "for key in my_dict.keys():\n",
    "    print(key)"
   ]
  },
  {
   "cell_type": "code",
   "execution_count": 5,
   "id": "2bc41584",
   "metadata": {},
   "outputs": [
    {
     "name": "stdout",
     "output_type": "stream",
     "text": [
      "Alice\n",
      "25\n",
      "New York\n",
      "Engineer\n"
     ]
    }
   ],
   "source": [
    "#50.Print all values of dictionary \n",
    "\n",
    "my_dict = {\"name\": \"Alice\", \"age\": 25, \"city\": \"New York\", \"occupation\": \"Engineer\"}\n",
    "# Print all the values\n",
    "for value in my_dict.values():\n",
    "    print(value)"
   ]
  },
  {
   "cell_type": "code",
   "execution_count": 7,
   "id": "372aa787",
   "metadata": {},
   "outputs": [
    {
     "name": "stdout",
     "output_type": "stream",
     "text": [
      "Alice\n",
      "25\n",
      "Engineer\n"
     ]
    }
   ],
   "source": [
    "#51.Print all values except \"New York\"\n",
    "\n",
    "my_dict = {\"name\": \"Alice\", \"age\": 25, \"city\": \"New York\", \"occupation\": \"Engineer\"}\n",
    "\n",
    "# Print all values except the one with the key_to_exclude\n",
    "for value in my_dict.values():\n",
    "    if value!= \"New York\":\n",
    "        print(value)"
   ]
  },
  {
   "cell_type": "code",
   "execution_count": 8,
   "id": "c9a58bb9",
   "metadata": {},
   "outputs": [
    {
     "name": "stdout",
     "output_type": "stream",
     "text": [
      "{'name': 'Alice', 'city': 'New York', 'occupation': 'Engineer'}\n"
     ]
    }
   ],
   "source": [
    "#52.Delete key \"age\" from below dict\n",
    "\n",
    "my_dict = {\"name\": \"Alice\", \"age\": 25, \"city\": \"New York\", \"occupation\": \"Engineer\"}\n",
    "\n",
    "# Delete the \"age\" key from the dictionary\n",
    "if \"age\" in my_dict:\n",
    "    del my_dict[\"age\"]\n",
    "\n",
    "print(my_dict)"
   ]
  },
  {
   "cell_type": "code",
   "execution_count": 9,
   "id": "251a3af3",
   "metadata": {},
   "outputs": [
    {
     "name": "stdout",
     "output_type": "stream",
     "text": [
      "Engineer\n"
     ]
    }
   ],
   "source": [
    "#53.Print value of \"occupation\" from below dictionary.\n",
    "\n",
    "my_dict = {\"name\": \"Alice\", \"age\": 25, \"city\": \"New York\", \"occupation\": \"Engineer\"}\n",
    "\n",
    "# Print the value associated with the key \"occupation\"\n",
    "print(my_dict[\"occupation\"])"
   ]
  },
  {
   "cell_type": "markdown",
   "id": "b895851a",
   "metadata": {},
   "source": [
    "## Function"
   ]
  },
  {
   "cell_type": "code",
   "execution_count": 1,
   "id": "1fd8b065",
   "metadata": {},
   "outputs": [
    {
     "name": "stdout",
     "output_type": "stream",
     "text": [
      "Sum:  9\n"
     ]
    }
   ],
   "source": [
    "#54.Write a python function for addition of 2 number\n",
    "\n",
    "def add_numbers(num1, num2):\n",
    "    sum = num1 + num2\n",
    "    return sum\n",
    "\n",
    "result = add_numbers(5, 4)\n",
    "print('Sum: ', result)"
   ]
  },
  {
   "cell_type": "code",
   "execution_count": 2,
   "id": "1f29ed62",
   "metadata": {},
   "outputs": [
    {
     "name": "stdout",
     "output_type": "stream",
     "text": [
      "20\n"
     ]
    }
   ],
   "source": [
    "#55.Write function to add all numbers of list and print\n",
    "\n",
    "def sum(*numbers):\n",
    "    total = 0\n",
    "    for x in numbers:\n",
    "        total += x\n",
    "    return total\n",
    "\n",
    "Total = sum(8, 2, 3, 0, 7)\n",
    "print(Total)"
   ]
  },
  {
   "cell_type": "code",
   "execution_count": 3,
   "id": "fc3ff758",
   "metadata": {},
   "outputs": [
    {
     "name": "stdout",
     "output_type": "stream",
     "text": [
      "27 Is Odd Number\n"
     ]
    }
   ],
   "source": [
    "#56.Write a fucntion to check if number is even or odd and print it.\n",
    "\n",
    "def even_odd(num):\n",
    "  if num%2==0:\n",
    "    print(\"{} Is Even Number\".format(num))\n",
    "  else:\n",
    "    print(\"{} Is Odd Number\".format(num))\n",
    "\n",
    "even_odd(27)"
   ]
  },
  {
   "cell_type": "code",
   "execution_count": 4,
   "id": "7605ae2e",
   "metadata": {},
   "outputs": [
    {
     "name": "stdout",
     "output_type": "stream",
     "text": [
      "1\n",
      "2\n",
      "3\n",
      "hello\n",
      "11\n"
     ]
    }
   ],
   "source": [
    "#57.Take any no of inputs in functions and print them.\n",
    "\n",
    "def print_args(*args):\n",
    "    for arg in args:\n",
    "        print(arg)\n",
    "    return 11\n",
    "\n",
    "a = print_args(1, 2, 3, \"hello\")\n",
    "print(a)"
   ]
  },
  {
   "cell_type": "code",
   "execution_count": 5,
   "id": "617986da",
   "metadata": {},
   "outputs": [
    {
     "name": "stdout",
     "output_type": "stream",
     "text": [
      "12\n"
     ]
    }
   ],
   "source": [
    "#58.Write a python function which will take N number of inputs and print addition of all numbers\n",
    "\n",
    "def add_number(*numbers):\n",
    "  sum=0\n",
    "  for num in numbers:\n",
    "    sum = sum + num\n",
    "  return sum\n",
    "\n",
    "addition = add_number(1,2,3,6)\n",
    "print(addition)"
   ]
  },
  {
   "cell_type": "code",
   "execution_count": 8,
   "id": "f0c0ae87",
   "metadata": {},
   "outputs": [
    {
     "name": "stdout",
     "output_type": "stream",
     "text": [
      "['KETAN', 'SHYAM', 'AMOL', 'CHIRAG']\n"
     ]
    }
   ],
   "source": [
    "#59.Write python function which will take N number of string as inputs and will return list of Upper case string\n",
    "\n",
    "def upper_string(*words):\n",
    "  upper_list=[]\n",
    "  for word in words:\n",
    "    upper_list.append(word.upper())\n",
    "  return upper_list\n",
    "\n",
    "upper_words= upper_string(\"ketan\",\"shyam\",\"AMOL\",\"Chirag\")\n",
    "print(upper_words)"
   ]
  },
  {
   "cell_type": "code",
   "execution_count": 9,
   "id": "93ea0437",
   "metadata": {},
   "outputs": [
    {
     "name": "stdout",
     "output_type": "stream",
     "text": [
      "name,Alice\n",
      "age,30\n",
      "city,New York\n"
     ]
    }
   ],
   "source": [
    "#60. write a python function which takes multiple keyword arguments.\n",
    "\n",
    "def print_kwargs(**kwargs):\n",
    "    for key, value in kwargs.items():\n",
    "        print(\"{},{}\".format(key,value))\n",
    "\n",
    "print_kwargs(name=\"Alice\", age=30, city=\"New York\")"
   ]
  },
  {
   "cell_type": "code",
   "execution_count": 10,
   "id": "efe5f57d",
   "metadata": {},
   "outputs": [
    {
     "name": "stdout",
     "output_type": "stream",
     "text": [
      "15\n"
     ]
    }
   ],
   "source": [
    "#61. write a python function which takes keyword agruments and find maximum value among all\n",
    "\n",
    "def find_max(**kwargs):\n",
    "    return max(kwargs.values())\n",
    "\n",
    "result = find_max(a=10, b=5, c=15)\n",
    "print(result)"
   ]
  },
  {
   "cell_type": "code",
   "execution_count": null,
   "id": "78c3fe3f",
   "metadata": {},
   "outputs": [],
   "source": []
  }
 ],
 "metadata": {
  "kernelspec": {
   "display_name": "Python 3 (ipykernel)",
   "language": "python",
   "name": "python3"
  },
  "language_info": {
   "codemirror_mode": {
    "name": "ipython",
    "version": 3
   },
   "file_extension": ".py",
   "mimetype": "text/x-python",
   "name": "python",
   "nbconvert_exporter": "python",
   "pygments_lexer": "ipython3",
   "version": "3.9.13"
  }
 },
 "nbformat": 4,
 "nbformat_minor": 5
}
